{
 "cells": [
  {
   "cell_type": "code",
   "execution_count": 23,
   "metadata": {
    "_cell_guid": "b1076dfc-b9ad-4769-8c92-a6c4dae69d19",
    "_uuid": "8f2839f25d086af736a60e9eeb907d3b93b6e0e5"
   },
   "outputs": [],
   "source": [
    "import numpy as np\n",
    "import pandas as pd\n",
    "\n",
    "from torch.optim.lr_scheduler import ReduceLROnPlateau\n",
    "from torch.utils.data import DataLoader\n",
    "import torch.nn as nn\n",
    "import torch\n",
    "\n",
    "import matplotlib.pyplot as plt\n",
    "\n",
    "from sklearn.preprocessing import LabelEncoder\n",
    "from sklearn.model_selection import train_test_split\n",
    "\n",
    "from nltk.tokenize import word_tokenize\n",
    "\n",
    "import fasttext as ft\n",
    "\n",
    "from tqdm import trange"
   ]
  },
  {
   "cell_type": "markdown",
   "metadata": {},
   "source": [
    "# Настройки"
   ]
  },
  {
   "cell_type": "code",
   "execution_count": 24,
   "metadata": {
    "_cell_guid": "79c7e3d0-c299-4dcb-8224-4455121ee9b0",
    "_uuid": "d629ff2d2480ee46fbb7e2d37f6b5fab8052498a",
    "scrolled": true
   },
   "outputs": [],
   "source": [
    "# Параметры обучения\n",
    "EPOCHS = 30\n",
    "\n",
    "# Параметры загрузчиков\n",
    "BATCH_SIZE  = 64\n",
    "NUM_WORKERS = 0\n",
    "\n",
    "# Параметры оптимизатора\n",
    "WEIGTH_DECAY = 5e-5\n",
    "LR = 3e-3\n",
    "\n",
    "# Параметры планировщика\n",
    "PATIENCE  = 5\n",
    "MIN_LR    = 1e-6\n",
    "THRESHOLD = 1e-4\n",
    "\n",
    "# Параметры LSTM\n",
    "EMBED_DIM = 300\n",
    "HIDDEN_DIM = 512\n",
    "N_LAYERS = 2\n",
    "DROP_PROB = 0.5\n",
    "BIDIRECTIONAL = False"
   ]
  },
  {
   "cell_type": "code",
   "execution_count": 25,
   "metadata": {},
   "outputs": [
    {
     "data": {
      "text/plain": [
       "device(type='cuda')"
      ]
     },
     "execution_count": 25,
     "metadata": {},
     "output_type": "execute_result"
    }
   ],
   "source": [
    "device = torch.device('cuda' if torch.cuda.is_available() else 'cpu')\n",
    "device"
   ]
  },
  {
   "cell_type": "markdown",
   "metadata": {},
   "source": [
    "# Загрузка датасета"
   ]
  },
  {
   "cell_type": "code",
   "execution_count": 26,
   "metadata": {},
   "outputs": [
    {
     "data": {
      "text/html": [
       "<div>\n",
       "<style scoped>\n",
       "    .dataframe tbody tr th:only-of-type {\n",
       "        vertical-align: middle;\n",
       "    }\n",
       "\n",
       "    .dataframe tbody tr th {\n",
       "        vertical-align: top;\n",
       "    }\n",
       "\n",
       "    .dataframe thead th {\n",
       "        text-align: right;\n",
       "    }\n",
       "</style>\n",
       "<table border=\"1\" class=\"dataframe\">\n",
       "  <thead>\n",
       "    <tr style=\"text-align: right;\">\n",
       "      <th></th>\n",
       "      <th>Sentence #</th>\n",
       "      <th>Word</th>\n",
       "      <th>POS</th>\n",
       "      <th>Tag</th>\n",
       "    </tr>\n",
       "  </thead>\n",
       "  <tbody>\n",
       "    <tr>\n",
       "      <th>0</th>\n",
       "      <td>Sentence: 1</td>\n",
       "      <td>Thousands</td>\n",
       "      <td>NNS</td>\n",
       "      <td>O</td>\n",
       "    </tr>\n",
       "    <tr>\n",
       "      <th>1</th>\n",
       "      <td>NaN</td>\n",
       "      <td>of</td>\n",
       "      <td>IN</td>\n",
       "      <td>O</td>\n",
       "    </tr>\n",
       "    <tr>\n",
       "      <th>2</th>\n",
       "      <td>NaN</td>\n",
       "      <td>demonstrators</td>\n",
       "      <td>NNS</td>\n",
       "      <td>O</td>\n",
       "    </tr>\n",
       "    <tr>\n",
       "      <th>3</th>\n",
       "      <td>NaN</td>\n",
       "      <td>have</td>\n",
       "      <td>VBP</td>\n",
       "      <td>O</td>\n",
       "    </tr>\n",
       "    <tr>\n",
       "      <th>4</th>\n",
       "      <td>NaN</td>\n",
       "      <td>marched</td>\n",
       "      <td>VBN</td>\n",
       "      <td>O</td>\n",
       "    </tr>\n",
       "    <tr>\n",
       "      <th>5</th>\n",
       "      <td>NaN</td>\n",
       "      <td>through</td>\n",
       "      <td>IN</td>\n",
       "      <td>O</td>\n",
       "    </tr>\n",
       "    <tr>\n",
       "      <th>6</th>\n",
       "      <td>NaN</td>\n",
       "      <td>London</td>\n",
       "      <td>NNP</td>\n",
       "      <td>B-geo</td>\n",
       "    </tr>\n",
       "    <tr>\n",
       "      <th>7</th>\n",
       "      <td>NaN</td>\n",
       "      <td>to</td>\n",
       "      <td>TO</td>\n",
       "      <td>O</td>\n",
       "    </tr>\n",
       "    <tr>\n",
       "      <th>8</th>\n",
       "      <td>NaN</td>\n",
       "      <td>protest</td>\n",
       "      <td>VB</td>\n",
       "      <td>O</td>\n",
       "    </tr>\n",
       "    <tr>\n",
       "      <th>9</th>\n",
       "      <td>NaN</td>\n",
       "      <td>the</td>\n",
       "      <td>DT</td>\n",
       "      <td>O</td>\n",
       "    </tr>\n",
       "    <tr>\n",
       "      <th>10</th>\n",
       "      <td>NaN</td>\n",
       "      <td>war</td>\n",
       "      <td>NN</td>\n",
       "      <td>O</td>\n",
       "    </tr>\n",
       "    <tr>\n",
       "      <th>11</th>\n",
       "      <td>NaN</td>\n",
       "      <td>in</td>\n",
       "      <td>IN</td>\n",
       "      <td>O</td>\n",
       "    </tr>\n",
       "    <tr>\n",
       "      <th>12</th>\n",
       "      <td>NaN</td>\n",
       "      <td>Iraq</td>\n",
       "      <td>NNP</td>\n",
       "      <td>B-geo</td>\n",
       "    </tr>\n",
       "    <tr>\n",
       "      <th>13</th>\n",
       "      <td>NaN</td>\n",
       "      <td>and</td>\n",
       "      <td>CC</td>\n",
       "      <td>O</td>\n",
       "    </tr>\n",
       "    <tr>\n",
       "      <th>14</th>\n",
       "      <td>NaN</td>\n",
       "      <td>demand</td>\n",
       "      <td>VB</td>\n",
       "      <td>O</td>\n",
       "    </tr>\n",
       "    <tr>\n",
       "      <th>15</th>\n",
       "      <td>NaN</td>\n",
       "      <td>the</td>\n",
       "      <td>DT</td>\n",
       "      <td>O</td>\n",
       "    </tr>\n",
       "    <tr>\n",
       "      <th>16</th>\n",
       "      <td>NaN</td>\n",
       "      <td>withdrawal</td>\n",
       "      <td>NN</td>\n",
       "      <td>O</td>\n",
       "    </tr>\n",
       "    <tr>\n",
       "      <th>17</th>\n",
       "      <td>NaN</td>\n",
       "      <td>of</td>\n",
       "      <td>IN</td>\n",
       "      <td>O</td>\n",
       "    </tr>\n",
       "    <tr>\n",
       "      <th>18</th>\n",
       "      <td>NaN</td>\n",
       "      <td>British</td>\n",
       "      <td>JJ</td>\n",
       "      <td>B-gpe</td>\n",
       "    </tr>\n",
       "    <tr>\n",
       "      <th>19</th>\n",
       "      <td>NaN</td>\n",
       "      <td>troops</td>\n",
       "      <td>NNS</td>\n",
       "      <td>O</td>\n",
       "    </tr>\n",
       "  </tbody>\n",
       "</table>\n",
       "</div>"
      ],
      "text/plain": [
       "     Sentence #           Word  POS    Tag\n",
       "0   Sentence: 1      Thousands  NNS      O\n",
       "1           NaN             of   IN      O\n",
       "2           NaN  demonstrators  NNS      O\n",
       "3           NaN           have  VBP      O\n",
       "4           NaN        marched  VBN      O\n",
       "5           NaN        through   IN      O\n",
       "6           NaN         London  NNP  B-geo\n",
       "7           NaN             to   TO      O\n",
       "8           NaN        protest   VB      O\n",
       "9           NaN            the   DT      O\n",
       "10          NaN            war   NN      O\n",
       "11          NaN             in   IN      O\n",
       "12          NaN           Iraq  NNP  B-geo\n",
       "13          NaN            and   CC      O\n",
       "14          NaN         demand   VB      O\n",
       "15          NaN            the   DT      O\n",
       "16          NaN     withdrawal   NN      O\n",
       "17          NaN             of   IN      O\n",
       "18          NaN        British   JJ  B-gpe\n",
       "19          NaN         troops  NNS      O"
      ]
     },
     "execution_count": 26,
     "metadata": {},
     "output_type": "execute_result"
    }
   ],
   "source": [
    "df = pd.read_csv(\"ner_dataset.csv\",  encoding = 'unicode_escape')\n",
    "df.head(20)"
   ]
  },
  {
   "cell_type": "code",
   "execution_count": 27,
   "metadata": {},
   "outputs": [
    {
     "data": {
      "text/plain": [
       "Tag\n",
       "O        887908\n",
       "B-geo     37644\n",
       "B-tim     20333\n",
       "B-org     20143\n",
       "I-per     17251\n",
       "B-per     16990\n",
       "I-org     16784\n",
       "B-gpe     15870\n",
       "I-geo      7414\n",
       "I-tim      6528\n",
       "B-art       402\n",
       "B-eve       308\n",
       "I-art       297\n",
       "I-eve       253\n",
       "B-nat       201\n",
       "I-gpe       198\n",
       "I-nat        51\n",
       "Name: count, dtype: int64"
      ]
     },
     "execution_count": 27,
     "metadata": {},
     "output_type": "execute_result"
    }
   ],
   "source": [
    "df['Tag'].value_counts()"
   ]
  },
  {
   "cell_type": "code",
   "execution_count": 28,
   "metadata": {},
   "outputs": [],
   "source": [
    "num_tag = len(df['Tag'].unique())"
   ]
  },
  {
   "cell_type": "markdown",
   "metadata": {},
   "source": [
    "# Обработка датасета"
   ]
  },
  {
   "cell_type": "code",
   "execution_count": 29,
   "metadata": {},
   "outputs": [
    {
     "name": "stderr",
     "output_type": "stream",
     "text": [
      "C:\\Users\\Sanya\\AppData\\Local\\Temp\\ipykernel_29564\\4076540538.py:3: FutureWarning: Series.fillna with 'method' is deprecated and will raise in a future version. Use obj.ffill() or obj.bfill() instead.\n",
      "  df.loc[:, \"Sentence #\"] = df[\"Sentence #\"].fillna(method = \"ffill\")\n"
     ]
    }
   ],
   "source": [
    "enc_tag = LabelEncoder()\n",
    "\n",
    "df.loc[:, \"Sentence #\"] = df[\"Sentence #\"].fillna(method = \"ffill\")\n",
    "df.loc[:, \"Tag\"] = enc_tag.fit_transform(df[\"Tag\"])\n",
    "\n",
    "sentences = df.groupby(\"Sentence #\")[\"Word\"].apply(list).values\n",
    "tag = df.groupby(\"Sentence #\")[\"Tag\"].apply(list).values"
   ]
  },
  {
   "cell_type": "code",
   "execution_count": 30,
   "metadata": {},
   "outputs": [
    {
     "data": {
      "text/plain": [
       "['Thousands',\n",
       " 'of',\n",
       " 'demonstrators',\n",
       " 'have',\n",
       " 'marched',\n",
       " 'through',\n",
       " 'London',\n",
       " 'to',\n",
       " 'protest',\n",
       " 'the',\n",
       " 'war',\n",
       " 'in',\n",
       " 'Iraq',\n",
       " 'and',\n",
       " 'demand',\n",
       " 'the',\n",
       " 'withdrawal',\n",
       " 'of',\n",
       " 'British',\n",
       " 'troops',\n",
       " 'from',\n",
       " 'that',\n",
       " 'country',\n",
       " '.']"
      ]
     },
     "execution_count": 30,
     "metadata": {},
     "output_type": "execute_result"
    }
   ],
   "source": [
    "sentences[0]"
   ]
  },
  {
   "cell_type": "code",
   "execution_count": 31,
   "metadata": {},
   "outputs": [],
   "source": [
    "max_len = np.max(list(map(len, sentences)))"
   ]
  },
  {
   "cell_type": "markdown",
   "metadata": {},
   "source": [
    "# Загрузка модели FastText"
   ]
  },
  {
   "cell_type": "code",
   "execution_count": 32,
   "metadata": {},
   "outputs": [],
   "source": [
    "fasttext_model = ft.load_model(\"cc.en.300.bin\")"
   ]
  },
  {
   "cell_type": "markdown",
   "metadata": {},
   "source": [
    "# Создание датасета"
   ]
  },
  {
   "cell_type": "code",
   "execution_count": 33,
   "metadata": {},
   "outputs": [],
   "source": [
    "class EntityDataset:\n",
    "    def __init__(self, texts, tags, max_len):\n",
    "        self.max_len = max_len\n",
    "\n",
    "        self.texts = [[fasttext_model.get_word_vector(word) \n",
    "                     for word in np.pad(text, (0, max_len - len(text)), mode = 'constant', constant_values = '')] \n",
    "                     for text in texts]\n",
    "        \n",
    "        self.tags = [np.pad(tag, (0, max_len - len(tag)), mode = 'constant') for tag in tags]\n",
    "\n",
    "        self.masks = [np.concatenate([np.ones(len(tag)), np.zeros(max_len - len(tag))])  \n",
    "                      for tag in tags]\n",
    "        \n",
    "        self.texts = np.array(self.texts)\n",
    "        self.tags  = np.array(self.tags)\n",
    "        self.masks = np.array(self.masks)\n",
    "        \n",
    "    \n",
    "    def __len__(self):\n",
    "        return len(self.texts)\n",
    "    \n",
    "    def __getitem__(self, id):\n",
    "     \n",
    "        return (torch.tensor(self.texts[id], dtype = torch.float32),\n",
    "                torch.tensor(self.tags[id], dtype = torch.long),\n",
    "                torch.tensor(self.masks[id], dtype = torch.long))"
   ]
  },
  {
   "cell_type": "markdown",
   "metadata": {},
   "source": [
    "# Создание загрузчиков"
   ]
  },
  {
   "cell_type": "code",
   "execution_count": 34,
   "metadata": {},
   "outputs": [],
   "source": [
    "X_train, X_test, y_train, y_test = train_test_split(sentences, tag, test_size = .2)\n",
    "X_val, X_test, y_val, y_test = train_test_split(X_test, y_test, test_size = .5)"
   ]
  },
  {
   "cell_type": "code",
   "execution_count": 35,
   "metadata": {},
   "outputs": [],
   "source": [
    "train_dataset = EntityDataset(texts = X_train, tags = y_train, max_len = max_len)\n",
    "valid_dataset = EntityDataset(texts = X_val, tags = y_val, max_len = max_len)\n",
    "test_dataset  = EntityDataset(texts = X_test, tags = y_test, max_len = max_len)"
   ]
  },
  {
   "cell_type": "code",
   "execution_count": 36,
   "metadata": {},
   "outputs": [],
   "source": [
    "train_loader = DataLoader(train_dataset, \n",
    "                          batch_size = BATCH_SIZE, \n",
    "                          num_workers = NUM_WORKERS, \n",
    "                          shuffle = True, \n",
    "                          drop_last = True)\n",
    "\n",
    "valid_loader = DataLoader(valid_dataset, \n",
    "                          batch_size = BATCH_SIZE, \n",
    "                          num_workers = NUM_WORKERS,\n",
    "                          shuffle = False, \n",
    "                          drop_last = True)\n",
    "\n",
    "test_loader = DataLoader(test_dataset, \n",
    "                         batch_size = BATCH_SIZE, \n",
    "                         num_workers = NUM_WORKERS,\n",
    "                         shuffle = False, \n",
    "                         drop_last = True)"
   ]
  },
  {
   "cell_type": "markdown",
   "metadata": {},
   "source": [
    "# Подготовка лосс-функции"
   ]
  },
  {
   "cell_type": "code",
   "execution_count": 37,
   "metadata": {},
   "outputs": [],
   "source": [
    "def get_loss(loss_fn, output, target, mask, cls_cnt):\n",
    "\n",
    "    active_loss = mask.view(-1) == 1\n",
    "    active_logits = output.view(-1, cls_cnt)\n",
    "    active_labels = torch.where(\n",
    "        active_loss,\n",
    "        target.view(-1),\n",
    "        torch.tensor(loss_fn.ignore_index).type_as(target)\n",
    "    )\n",
    "    \n",
    "    return loss_fn(active_logits, active_labels)"
   ]
  },
  {
   "cell_type": "markdown",
   "metadata": {},
   "source": [
    "# Подготовка метрики"
   ]
  },
  {
   "cell_type": "code",
   "execution_count": 38,
   "metadata": {},
   "outputs": [],
   "source": [
    "def get_stats(pred, target, mask):\n",
    "\n",
    "    mask = mask.bool()\n",
    "    pred = torch.masked_select(pred, mask)\n",
    "    target = torch.masked_select(target, mask)\n",
    "\n",
    "    correct = torch.sum(pred == target)\n",
    "    total = len(pred)\n",
    "    \n",
    "    return correct, total"
   ]
  },
  {
   "cell_type": "markdown",
   "metadata": {},
   "source": [
    "# Создание модели"
   ]
  },
  {
   "cell_type": "code",
   "execution_count": 39,
   "metadata": {},
   "outputs": [],
   "source": [
    "class EntityModel(nn.Module):\n",
    "    def __init__(self, output_size, embedding_dim, hidden_dim, n_layers, drop_prob = 0.5, bidirectional = False):\n",
    "        super().__init__()\n",
    "        self.output_size = output_size\n",
    "        self.n_layers = n_layers\n",
    "        self.hidden_dim = hidden_dim\n",
    "        \n",
    "        self.lstm = nn.LSTM(embedding_dim, hidden_dim, n_layers, dropout = drop_prob,\n",
    "                            batch_first = True, bidirectional = bidirectional)\n",
    "        \n",
    "        self.dropout = nn.Dropout(drop_prob)\n",
    "        self.fc = nn.Linear(hidden_dim, output_size)\n",
    "    \n",
    "    def forward(self, embeds, hidden):\n",
    "\n",
    "        lstm_out, hidden = self.lstm(embeds, hidden)\n",
    "        lstm_out = lstm_out.contiguous().view(-1, self.hidden_dim)\n",
    "        \n",
    "        out = self.dropout(lstm_out)\n",
    "        out = self.fc(out)\n",
    "        \n",
    "        return out, hidden\n",
    "    \n",
    "    def init_hidden(self, batch_size):\n",
    "        num_directions = 2 if self.lstm.bidirectional else 1\n",
    "\n",
    "        h_zeros = torch.zeros(self.n_layers * num_directions,\n",
    "                              batch_size, \n",
    "                              self.hidden_dim,\n",
    "                              dtype = torch.float32, \n",
    "                              device = device)\n",
    "        \n",
    "        c_zeros = torch.zeros(self.n_layers * num_directions,\n",
    "                              batch_size, \n",
    "                              self.hidden_dim,\n",
    "                              dtype = torch.float32, \n",
    "                              device=device)\n",
    "\n",
    "        return (h_zeros, c_zeros)"
   ]
  },
  {
   "cell_type": "markdown",
   "metadata": {},
   "source": [
    "# Тренировка"
   ]
  },
  {
   "cell_type": "code",
   "execution_count": 40,
   "metadata": {},
   "outputs": [],
   "source": [
    "model = EntityModel(num_tag, EMBED_DIM, HIDDEN_DIM, N_LAYERS, DROP_PROB, BIDIRECTIONAL).to(device)\n",
    "\n",
    "criterion = nn.CrossEntropyLoss().to(device)\n",
    "optimizer = torch.optim.AdamW(model.parameters(), lr = LR, weight_decay = WEIGTH_DECAY)\n",
    "schedule = ReduceLROnPlateau(optimizer, patience = PATIENCE, min_lr = MIN_LR, threshold = THRESHOLD)"
   ]
  },
  {
   "cell_type": "code",
   "execution_count": 41,
   "metadata": {},
   "outputs": [
    {
     "name": "stderr",
     "output_type": "stream",
     "text": [
      "Avg. train/valid loss: [0.0332/0.0025], train/valid accuracy: [98.86%/96.18%]: 100%|██████████| 30/30 [09:23<00:00, 18.77s/it]\n"
     ]
    },
    {
     "data": {
      "text/plain": [
       "<All keys matched successfully>"
      ]
     },
     "execution_count": 41,
     "metadata": {},
     "output_type": "execute_result"
    }
   ],
   "source": [
    "# Значения функции потерь в течение обучения\n",
    "train_losses = np.zeros(EPOCHS) \n",
    "val_losses   = np.zeros(EPOCHS)\n",
    "\n",
    "# Значения accuracy в течение обучения\n",
    "train_accs = np.zeros(EPOCHS) \n",
    "val_accs   = np.zeros(EPOCHS)\n",
    "\n",
    "# Значения learning rate в течение обучения\n",
    "lrs = []\n",
    "\n",
    "for epoch in (pbar := trange(EPOCHS)):\n",
    "\n",
    "    torch.save(model.state_dict(), 'weights.htp')\n",
    "    best_acc = 0\n",
    "\n",
    "    h = model.init_hidden(BATCH_SIZE)\n",
    "    correct_sum, total_sum = 0, 0\n",
    "    \n",
    "    model = model.train()\n",
    "        \n",
    "    for inputs, labels, mask in train_loader:  \n",
    "\n",
    "            h = tuple([e.data for e in h])\n",
    "\n",
    "            inputs = inputs.to(device)\n",
    "            labels = labels.to(device)\n",
    "            mask  = mask.to(device)\n",
    "            \n",
    "            # Прямой проход\n",
    "            model.zero_grad()\n",
    "            outputs, h = model(inputs, h)\n",
    "            loss = get_loss(criterion, outputs, labels.flatten(), mask.flatten(), num_tag)           \n",
    "            train_losses[epoch] += loss.item()\n",
    "\n",
    "            predicted = torch.argmax(outputs.data, dim = -1)\n",
    "\n",
    "            correct, total = get_stats(predicted, labels.flatten(), mask.flatten())\n",
    "            correct_sum += correct\n",
    "            total_sum += total\n",
    "\n",
    "            # Обратный проход и оптимизация\n",
    "            optimizer.zero_grad()\n",
    "            loss.backward(retain_graph = True)\n",
    "            optimizer.step()\n",
    "            \n",
    "            lrs.append(optimizer.param_groups[0][\"lr\"])           \n",
    "\n",
    "    train_accs[epoch] = 100 * correct_sum / total_sum\n",
    "    train_losses[epoch] /= len(train_loader)  \n",
    "    \n",
    "    # Валидация\n",
    "    with torch.no_grad():\n",
    "\n",
    "        h = model.init_hidden(BATCH_SIZE)\n",
    "        correct_sum, total_sum = 0, 0\n",
    "\n",
    "        model = model.eval()\n",
    "\n",
    "        for inputs, labels, mask in valid_loader:\n",
    "\n",
    "            h = tuple([e.data for e in h])\n",
    "\n",
    "            inputs = inputs.to(device)\n",
    "            labels = labels.to(device)\n",
    "            mask  = mask.to(device)\n",
    "\n",
    "            # Прямой проход\n",
    "            model.zero_grad()\n",
    "            outputs, h = model(inputs, h)\n",
    "            loss = get_loss(criterion, outputs, labels.flatten(), mask.flatten(), num_tag)           \n",
    "            val_losses[epoch] += loss.item()\n",
    "\n",
    "            predicted = torch.argmax(outputs.data, dim = -1)\n",
    "                \n",
    "            correct, total = get_stats(predicted, labels.flatten(), mask.flatten())\n",
    "            correct_sum += correct\n",
    "            total_sum += total\n",
    "\n",
    "            val_accs[epoch] = 100 * correct_sum / total_sum\n",
    "            val_losses[epoch] /= len(valid_loader)\n",
    "\n",
    "        # Сохранение весов, если результат на текущей эпохе лучше\n",
    "        if best_acc < val_accs[epoch]:\n",
    "            best_acc = val_accs[epoch]\n",
    "            torch.save(model.state_dict(), 'weights.htp')\n",
    "\n",
    "    schedule.step(val_losses[epoch])\n",
    "\n",
    "    pbar.set_description((f'Avg. train/valid loss: [{train_losses[epoch].item():.4f}/{val_losses[epoch].item():.4f}], ' \n",
    "                          f'train/valid accuracy: [{train_accs[epoch]:.2f}%/{val_accs[epoch]:.2f}%]'))\n",
    "    \n",
    "# Загрузка лучших весов\n",
    "model.load_state_dict(torch.load('weights.htp'))"
   ]
  },
  {
   "cell_type": "markdown",
   "metadata": {},
   "source": [
    "# Графики"
   ]
  },
  {
   "cell_type": "code",
   "execution_count": 42,
   "metadata": {},
   "outputs": [
    {
     "data": {
      "image/png": "[encoded data removed]",
      "text/plain": [
       "<Figure size 2000x600 with 3 Axes>"
      ]
     },
     "metadata": {},
     "output_type": "display_data"
    }
   ],
   "source": [
    "step = 3\n",
    "\n",
    "fig, axs = plt.subplots(1, 3, figsize = (20, 6))\n",
    "\n",
    "axs[0].plot(range(1, EPOCHS + 1), train_losses, linewidth = 2, label = 'train')\n",
    "axs[0].plot(range(1, EPOCHS + 1), val_losses, linewidth = 2, label = 'validation')\n",
    "axs[0].set_xticks(range(1, EPOCHS + 1, step))\n",
    "axs[0].set_xlabel('Epoch') \n",
    "axs[0].set_ylabel('Loss')\n",
    "axs[0].legend()\n",
    "axs[0].grid()\n",
    "\n",
    "axs[1].plot(range(1, EPOCHS + 1), train_accs, linewidth = 2, label = 'train')\n",
    "axs[1].plot(range(1, EPOCHS + 1), val_accs, linewidth = 2, label = 'validation')\n",
    "axs[1].set_xticks(range(1, EPOCHS + 1, step))\n",
    "axs[1].set_yticks(range(0, 101, 10))\n",
    "axs[1].set_xlabel('Epoch') \n",
    "axs[1].set_ylabel('Accuracy')\n",
    "axs[1].legend()\n",
    "axs[1].grid()\n",
    "\n",
    "axs[2].plot(np.linspace(0, EPOCHS, len(lrs)), lrs, linewidth = 2)\n",
    "axs[2].set_xticks(range(1, EPOCHS + 1, step))\n",
    "axs[2].set_xlabel('Epoch') \n",
    "axs[2].set_ylabel('Learning rate')\n",
    "axs[2].grid()\n",
    "\n",
    "plt.show()"
   ]
  },
  {
   "cell_type": "markdown",
   "metadata": {},
   "source": [
    "# Тестирование модели"
   ]
  },
  {
   "cell_type": "code",
   "execution_count": 43,
   "metadata": {},
   "outputs": [
    {
     "name": "stdout",
     "output_type": "stream",
     "text": [
      "Accuracy of the network: 96.2738%\n"
     ]
    }
   ],
   "source": [
    "model.eval()\n",
    "\n",
    "h = model.init_hidden(BATCH_SIZE)\n",
    "correct_sum, total_sum = 0, 0\n",
    "\n",
    "with torch.no_grad():\n",
    "    for inputs, labels, mask in test_loader:\n",
    "        \n",
    "        h = tuple([e.data for e in h])\n",
    "\n",
    "        inputs = inputs.to(device)\n",
    "        labels = labels.to(device)\n",
    "        mask  = mask.to(device)\n",
    "\n",
    "        outputs, h = model(inputs, h)\n",
    "        predicted = torch.argmax(outputs.data, dim = -1)\n",
    "\n",
    "        correct, total = get_stats(predicted, labels.flatten(), mask.flatten())\n",
    "        correct_sum += correct\n",
    "        total_sum += total\n",
    "\n",
    "    print(f'Accuracy of the network: {100 * correct_sum / total_sum:.4f}%')"
   ]
  },
  {
   "cell_type": "code",
   "execution_count": 48,
   "metadata": {},
   "outputs": [
    {
     "name": "stdout",
     "output_type": "stream",
     "text": [
      "['O' 'O' 'O' 'O' 'O' 'B-per' 'I-per' 'O' 'O' 'O' 'O' 'B-geo']\n"
     ]
    }
   ],
   "source": [
    "text = \"Hello! My name is Leisle Aleksandr and I am from Novosibirsk\"\n",
    "\n",
    "inputs = torch.tensor(np.array([fasttext_model.get_word_vector(s) for s in word_tokenize(text)]), dtype = torch.float32)\n",
    "inputs = inputs.unsqueeze(0).to(device)\n",
    "h = model.init_hidden(1)\n",
    "tag, h = model(inputs, h)\n",
    "\n",
    "print(enc_tag.inverse_transform(tag.argmax(-1).cpu().numpy().reshape(-1)))"
   ]
  }
 ],
 "metadata": {
  "kernelspec": {
   "display_name": "Python 3",
   "language": "python",
   "name": "python3"
  },
  "language_info": {
   "codemirror_mode": {
    "name": "ipython",
    "version": 3
   },
   "file_extension": ".py",
   "mimetype": "text/x-python",
   "name": "python",
   "nbconvert_exporter": "python",
   "pygments_lexer": "ipython3",
   "version": "3.9.13"
  }
 },
 "nbformat": 4,
 "nbformat_minor": 4
}
