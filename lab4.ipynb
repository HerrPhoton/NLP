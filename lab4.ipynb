{
 "cells": [
  {
   "cell_type": "code",
   "execution_count": 15,
   "metadata": {},
   "outputs": [
    {
     "name": "stderr",
     "output_type": "stream",
     "text": [
      "[nltk_data] Downloading package punkt to /home/sanya/nltk_data...\n",
      "[nltk_data]   Package punkt is already up-to-date!\n"
     ]
    }
   ],
   "source": [
    "import numpy as np\n",
    "import pandas as pd\n",
    "\n",
    "from tqdm import tqdm\n",
    "\n",
    "import evaluate\n",
    "\n",
    "import torch\n",
    "\n",
    "import nltk\n",
    "nltk.download('punkt')\n",
    "\n",
    "from transformers import (MBartForConditionalGeneration, \n",
    "                          MBartTokenizer, \n",
    "                          DataCollatorForSeq2Seq,\n",
    "                          MT5ForConditionalGeneration,\n",
    "                          MT5Tokenizer,\n",
    "                          pipeline,\n",
    "                          Seq2SeqTrainingArguments,\n",
    "                          Seq2SeqTrainer)\n",
    "\n",
    "from datasets import load_dataset"
   ]
  },
  {
   "cell_type": "markdown",
   "metadata": {},
   "source": [
    "# Настройка"
   ]
  },
  {
   "cell_type": "code",
   "execution_count": 16,
   "metadata": {},
   "outputs": [],
   "source": [
    "# Параметры Bart токенайзера\n",
    "MAX_LENGTH = 600\n",
    "PADDING = 'max_length'\n",
    "TRUNCATION = True\n",
    "RETURN_TENSORS = 'pt'\n",
    "\n",
    "# Параметры Bart\n",
    "NO_REPEAT_NGRAM = 4\n",
    "\n",
    "# Параметры T5 токенайзера\n",
    "MAX_TARGET_TOKENS_COUNT = 128\n",
    "MAX_SOURCE_TOKENS_COUNT = 1024\n",
    "\n",
    "# Параметры T5\n",
    "OUTPUT_DIR = \"T5\"\n",
    "EVALUATION_STRATEGY = \"steps\"\n",
    "EVAL_STEPS = 25\n",
    "LOGGING_STEPS = 25\n",
    "LEARNING_RATE = 4e-4\n",
    "PER_DEVICE_TRAIN_BATCH_SIZE = 2\n",
    "PER_DEVICE_EVAL_BATCH_SIZE = 2\n",
    "GRADIENT_ACCUMULATION_STEPS = 64\n",
    "WEIGHT_DECAY = 0.01\n",
    "SAVE_TOTAL_LIMIT = 3\n",
    "NUM_TRAIN_EPOCHS = 1\n",
    "FP16 = False\n",
    "PREDICT_WITH_GENERATE = True\n",
    "GENERATION_MAX_LENGTH = MAX_TARGET_TOKENS_COUNT\n",
    "GENERATION_NUM_BEAMS = 5"
   ]
  },
  {
   "cell_type": "markdown",
   "metadata": {},
   "source": [
    "### Устройство для обучения"
   ]
  },
  {
   "cell_type": "code",
   "execution_count": 17,
   "metadata": {},
   "outputs": [
    {
     "data": {
      "text/plain": [
       "device(type='cuda')"
      ]
     },
     "execution_count": 17,
     "metadata": {},
     "output_type": "execute_result"
    }
   ],
   "source": [
    "device = torch.device('cuda' if torch.cuda.is_available() else 'cpu')\n",
    "device"
   ]
  },
  {
   "cell_type": "markdown",
   "metadata": {},
   "source": [
    "### Метрики"
   ]
  },
  {
   "cell_type": "code",
   "execution_count": 18,
   "metadata": {},
   "outputs": [],
   "source": [
    "rouge = evaluate.load('rouge')\n",
    "bleu = evaluate.load(\"bleu\")"
   ]
  },
  {
   "cell_type": "markdown",
   "metadata": {},
   "source": [
    "# Загрузка датасета"
   ]
  },
  {
   "cell_type": "code",
   "execution_count": 19,
   "metadata": {},
   "outputs": [],
   "source": [
    "dataset = load_dataset('IlyaGusev/gazeta')\n",
    "dataset['train'] = dataset['train'].select(range(200))"
   ]
  },
  {
   "cell_type": "code",
   "execution_count": 20,
   "metadata": {},
   "outputs": [
    {
     "data": {
      "text/html": [
       "<div>\n",
       "<style scoped>\n",
       "    .dataframe tbody tr th:only-of-type {\n",
       "        vertical-align: middle;\n",
       "    }\n",
       "\n",
       "    .dataframe tbody tr th {\n",
       "        vertical-align: top;\n",
       "    }\n",
       "\n",
       "    .dataframe thead th {\n",
       "        text-align: right;\n",
       "    }\n",
       "</style>\n",
       "<table border=\"1\" class=\"dataframe\">\n",
       "  <thead>\n",
       "    <tr style=\"text-align: right;\">\n",
       "      <th></th>\n",
       "      <th>text</th>\n",
       "      <th>summary</th>\n",
       "      <th>title</th>\n",
       "      <th>date</th>\n",
       "      <th>url</th>\n",
       "    </tr>\n",
       "  </thead>\n",
       "  <tbody>\n",
       "    <tr>\n",
       "      <th>0</th>\n",
       "      <td>На этих выходных в Берлине прошли крупные акци...</td>\n",
       "      <td>Протестующие против антикоронавирусных мер нем...</td>\n",
       "      <td>В Германии объяснили упоминание имени Путина н...</td>\n",
       "      <td>2020-09-01 00:22:59</td>\n",
       "      <td>https://www.gazeta.ru/politics/2020/08/31_a_13...</td>\n",
       "    </tr>\n",
       "    <tr>\n",
       "      <th>1</th>\n",
       "      <td>Высокопоставленная американская и израильская ...</td>\n",
       "      <td>Делегации Израиля и США прилетели в ОАЭ, где о...</td>\n",
       "      <td>Делегации Израиля и США прибыли в ОАЭ для обсу...</td>\n",
       "      <td>2020-09-01 08:08:16</td>\n",
       "      <td>https://www.gazeta.ru/politics/2020/08/31_a_13...</td>\n",
       "    </tr>\n",
       "    <tr>\n",
       "      <th>2</th>\n",
       "      <td>Одна из руководителей Координационного совета ...</td>\n",
       "      <td>Белорусская оппозиция в лице экс-кандидата в п...</td>\n",
       "      <td>Оппозиция Белоруссии объявила о создании новой...</td>\n",
       "      <td>2020-09-01 09:21:38</td>\n",
       "      <td>https://www.gazeta.ru/politics/2020/09/01_a_13...</td>\n",
       "    </tr>\n",
       "    <tr>\n",
       "      <th>3</th>\n",
       "      <td>Россия считает действия ВС США во время учений...</td>\n",
       "      <td>Действия американских ВС в Эстонии во время уч...</td>\n",
       "      <td>Россия считает крайне опасными действия США на...</td>\n",
       "      <td>2020-09-01 09:33:30</td>\n",
       "      <td>https://www.gazeta.ru/army/2020/09/01/13222904...</td>\n",
       "    </tr>\n",
       "    <tr>\n",
       "      <th>4</th>\n",
       "      <td>С 1 сентября в России вступают в силу поправки...</td>\n",
       "      <td>Поправки в российский закон «О банкротстве» вс...</td>\n",
       "      <td>В России вступил в силу закон о внесудебном ба...</td>\n",
       "      <td>2020-09-01 09:49:24</td>\n",
       "      <td>https://www.gazeta.ru/business/2020/09/01/1322...</td>\n",
       "    </tr>\n",
       "    <tr>\n",
       "      <th>...</th>\n",
       "      <td>...</td>\n",
       "      <td>...</td>\n",
       "      <td>...</td>\n",
       "      <td>...</td>\n",
       "      <td>...</td>\n",
       "    </tr>\n",
       "    <tr>\n",
       "      <th>6788</th>\n",
       "      <td>Феерическим взрывом в атмосфере закончился пер...</td>\n",
       "      <td>Первый пуск американской частной ракеты Alpha ...</td>\n",
       "      <td>СМИ назвали успехом запуск частной ракеты Alph...</td>\n",
       "      <td>2021-09-03 09:28:34</td>\n",
       "      <td>https://www.gazeta.ru/science/2021/09/03_a_139...</td>\n",
       "    </tr>\n",
       "    <tr>\n",
       "      <th>6789</th>\n",
       "      <td>Глава Минвостокразвития Алексей Чекунков 31 ав...</td>\n",
       "      <td>Городская агломерация Владивостока может дости...</td>\n",
       "      <td>На ВЭФ подписано соглашение о создании города ...</td>\n",
       "      <td>2021-09-03 09:45:36</td>\n",
       "      <td>https://www.gazeta.ru/economics/2021/09/03/139...</td>\n",
       "    </tr>\n",
       "    <tr>\n",
       "      <th>6790</th>\n",
       "      <td>После взрывов во Врбетице отношения между Чехи...</td>\n",
       "      <td>Из-за геополитической и экономической роли Рос...</td>\n",
       "      <td>Глава чешского МИДа призвал восстанавливать св...</td>\n",
       "      <td>2021-09-03 10:44:03</td>\n",
       "      <td>https://www.gazeta.ru/politics/2021/09/03_a_13...</td>\n",
       "    </tr>\n",
       "    <tr>\n",
       "      <th>6791</th>\n",
       "      <td>Астрономы впервые наблюдали процесс вспышки св...</td>\n",
       "      <td>Международная группа астрономов впервые наблюд...</td>\n",
       "      <td>Астрономы наблюдали вспышку сверхновой нового ...</td>\n",
       "      <td>2021-09-03 11:43:50</td>\n",
       "      <td>https://www.gazeta.ru/science/2021/09/03_a_139...</td>\n",
       "    </tr>\n",
       "    <tr>\n",
       "      <th>6792</th>\n",
       "      <td>Москва никогда не отказывалась обсуждать с Ток...</td>\n",
       "      <td>Токио пока не дал гарантий Москве, что не стан...</td>\n",
       "      <td>Путин объяснил, что мешает заключению мира с Я...</td>\n",
       "      <td>2021-09-03 11:50:27</td>\n",
       "      <td>https://www.gazeta.ru/politics/2021/09/03_a_13...</td>\n",
       "    </tr>\n",
       "  </tbody>\n",
       "</table>\n",
       "<p>6793 rows × 5 columns</p>\n",
       "</div>"
      ],
      "text/plain": [
       "                                                   text  \\\n",
       "0     На этих выходных в Берлине прошли крупные акци...   \n",
       "1     Высокопоставленная американская и израильская ...   \n",
       "2     Одна из руководителей Координационного совета ...   \n",
       "3     Россия считает действия ВС США во время учений...   \n",
       "4     С 1 сентября в России вступают в силу поправки...   \n",
       "...                                                 ...   \n",
       "6788  Феерическим взрывом в атмосфере закончился пер...   \n",
       "6789  Глава Минвостокразвития Алексей Чекунков 31 ав...   \n",
       "6790  После взрывов во Врбетице отношения между Чехи...   \n",
       "6791  Астрономы впервые наблюдали процесс вспышки св...   \n",
       "6792  Москва никогда не отказывалась обсуждать с Ток...   \n",
       "\n",
       "                                                summary  \\\n",
       "0     Протестующие против антикоронавирусных мер нем...   \n",
       "1     Делегации Израиля и США прилетели в ОАЭ, где о...   \n",
       "2     Белорусская оппозиция в лице экс-кандидата в п...   \n",
       "3     Действия американских ВС в Эстонии во время уч...   \n",
       "4     Поправки в российский закон «О банкротстве» вс...   \n",
       "...                                                 ...   \n",
       "6788  Первый пуск американской частной ракеты Alpha ...   \n",
       "6789  Городская агломерация Владивостока может дости...   \n",
       "6790  Из-за геополитической и экономической роли Рос...   \n",
       "6791  Международная группа астрономов впервые наблюд...   \n",
       "6792  Токио пока не дал гарантий Москве, что не стан...   \n",
       "\n",
       "                                                  title                 date  \\\n",
       "0     В Германии объяснили упоминание имени Путина н...  2020-09-01 00:22:59   \n",
       "1     Делегации Израиля и США прибыли в ОАЭ для обсу...  2020-09-01 08:08:16   \n",
       "2     Оппозиция Белоруссии объявила о создании новой...  2020-09-01 09:21:38   \n",
       "3     Россия считает крайне опасными действия США на...  2020-09-01 09:33:30   \n",
       "4     В России вступил в силу закон о внесудебном ба...  2020-09-01 09:49:24   \n",
       "...                                                 ...                  ...   \n",
       "6788  СМИ назвали успехом запуск частной ракеты Alph...  2021-09-03 09:28:34   \n",
       "6789  На ВЭФ подписано соглашение о создании города ...  2021-09-03 09:45:36   \n",
       "6790  Глава чешского МИДа призвал восстанавливать св...  2021-09-03 10:44:03   \n",
       "6791  Астрономы наблюдали вспышку сверхновой нового ...  2021-09-03 11:43:50   \n",
       "6792  Путин объяснил, что мешает заключению мира с Я...  2021-09-03 11:50:27   \n",
       "\n",
       "                                                    url  \n",
       "0     https://www.gazeta.ru/politics/2020/08/31_a_13...  \n",
       "1     https://www.gazeta.ru/politics/2020/08/31_a_13...  \n",
       "2     https://www.gazeta.ru/politics/2020/09/01_a_13...  \n",
       "3     https://www.gazeta.ru/army/2020/09/01/13222904...  \n",
       "4     https://www.gazeta.ru/business/2020/09/01/1322...  \n",
       "...                                                 ...  \n",
       "6788  https://www.gazeta.ru/science/2021/09/03_a_139...  \n",
       "6789  https://www.gazeta.ru/economics/2021/09/03/139...  \n",
       "6790  https://www.gazeta.ru/politics/2021/09/03_a_13...  \n",
       "6791  https://www.gazeta.ru/science/2021/09/03_a_139...  \n",
       "6792  https://www.gazeta.ru/politics/2021/09/03_a_13...  \n",
       "\n",
       "[6793 rows x 5 columns]"
      ]
     },
     "execution_count": 20,
     "metadata": {},
     "output_type": "execute_result"
    }
   ],
   "source": [
    "df = pd.DataFrame(dataset['test'])\n",
    "df"
   ]
  },
  {
   "cell_type": "markdown",
   "metadata": {},
   "source": [
    "# Тестирование Bart"
   ]
  },
  {
   "cell_type": "code",
   "execution_count": 7,
   "metadata": {},
   "outputs": [],
   "source": [
    "model_name = \"IlyaGusev/mbart_ru_sum_gazeta\""
   ]
  },
  {
   "cell_type": "code",
   "execution_count": 8,
   "metadata": {},
   "outputs": [],
   "source": [
    "tokenizer = MBartTokenizer.from_pretrained(model_name)\n",
    "model = MBartForConditionalGeneration.from_pretrained(model_name).to(device)"
   ]
  },
  {
   "cell_type": "code",
   "execution_count": 9,
   "metadata": {},
   "outputs": [
    {
     "name": "stderr",
     "output_type": "stream",
     "text": [
      "100%|██████████| 100/100 [01:28<00:00,  1.13it/s]\n"
     ]
    }
   ],
   "source": [
    "predicts = []\n",
    "\n",
    "for text in tqdm(dataset['test']['text']):\n",
    "\n",
    "    input_ids = tokenizer(text, \n",
    "                          max_length = MAX_LENGTH,\n",
    "                          padding = PADDING,\n",
    "                          truncation = TRUNCATION,\n",
    "                          return_tensors = RETURN_TENSORS)\n",
    "    \n",
    "    input_ids = input_ids['input_ids'].to(device)\n",
    "    \n",
    "    output_ids = model.generate(input_ids = input_ids,\n",
    "                                no_repeat_ngram_size = NO_REPEAT_NGRAM)\n",
    "    \n",
    "    output_ids = output_ids[0]\n",
    "\n",
    "    predicts.append(tokenizer.decode(output_ids, skip_special_tokens = True))"
   ]
  },
  {
   "cell_type": "code",
   "execution_count": 10,
   "metadata": {},
   "outputs": [
    {
     "data": {
      "text/plain": [
       "'Лишний вес при COVID-19 повышает риск столкнуться с осложнениями и оказаться на ИВЛ, предупреждают французские врачи — ожирение наблюдается почти у всех пациентов с коронавирусом, попавших в отделения интенсивной терапии. И чем выше вес, тем выше и вероятность пострадать от тяжелого течения болезни.'"
      ]
     },
     "execution_count": 10,
     "metadata": {},
     "output_type": "execute_result"
    }
   ],
   "source": [
    "df['summary'][10]"
   ]
  },
  {
   "cell_type": "code",
   "execution_count": 11,
   "metadata": {},
   "outputs": [
    {
     "data": {
      "text/plain": [
       "'Ожирение повышает риск тяжелого течения COVID-19, предупреждают врачи из Лилльского университета во Франции. По их данным, среди пациентов с лишним весом почти половина страдала от ожирения, у четверти оно было тяжелым.'"
      ]
     },
     "execution_count": 11,
     "metadata": {},
     "output_type": "execute_result"
    }
   ],
   "source": [
    "predicts[10]"
   ]
  },
  {
   "cell_type": "code",
   "execution_count": 12,
   "metadata": {},
   "outputs": [],
   "source": [
    "rouge_res = rouge.compute(predictions = predicts,\n",
    "                          references = df['summary'].values)\n",
    "\n",
    "bleu_res = bleu.compute(predictions = predicts,\n",
    "                        references = df['summary'].values)"
   ]
  },
  {
   "cell_type": "code",
   "execution_count": 13,
   "metadata": {},
   "outputs": [
    {
     "name": "stdout",
     "output_type": "stream",
     "text": [
      "Rouge: {'rouge1': 0.25378338328338335, 'rouge2': 0.07744572094572094, 'rougeL': 0.2443589743589744, 'rougeLsum': 0.24598917748917754}\n",
      "Bleu = 0.13\n"
     ]
    }
   ],
   "source": [
    "print(f'Rouge: {rouge_res}')\n",
    "print(f'Bleu = {bleu_res[\"bleu\"]:.2f}')"
   ]
  },
  {
   "cell_type": "markdown",
   "metadata": {},
   "source": [
    "# Тестирование T5"
   ]
  },
  {
   "cell_type": "code",
   "execution_count": 21,
   "metadata": {},
   "outputs": [],
   "source": [
    "model_name = \"google/mt5-small\""
   ]
  },
  {
   "cell_type": "code",
   "execution_count": 22,
   "metadata": {},
   "outputs": [],
   "source": [
    "model = MT5ForConditionalGeneration.from_pretrained(model_name)\n",
    "tokenizer = MT5Tokenizer.from_pretrained(model_name)"
   ]
  },
  {
   "cell_type": "code",
   "execution_count": 23,
   "metadata": {},
   "outputs": [],
   "source": [
    "def preprocess(examples):\n",
    "   \n",
    "    inputs = examples['text']\n",
    "\n",
    "    model_inputs = tokenizer(inputs, \n",
    "                             max_length = MAX_SOURCE_TOKENS_COUNT, \n",
    "                             truncation = True)\n",
    "    \n",
    "    labels = tokenizer(text_target = examples['summary'], \n",
    "                       max_length = MAX_TARGET_TOKENS_COUNT,\n",
    "                       truncation = True)\n",
    "    \n",
    "    model_inputs['labels'] = labels['input_ids']\n",
    "\n",
    "    return model_inputs"
   ]
  },
  {
   "cell_type": "code",
   "execution_count": 24,
   "metadata": {},
   "outputs": [],
   "source": [
    "tokenized_dataset = dataset.map(preprocess, batched = True)"
   ]
  },
  {
   "cell_type": "code",
   "execution_count": 25,
   "metadata": {},
   "outputs": [],
   "source": [
    "data_collator = DataCollatorForSeq2Seq(tokenizer = tokenizer, model = model)"
   ]
  },
  {
   "cell_type": "code",
   "execution_count": 26,
   "metadata": {},
   "outputs": [],
   "source": [
    "def compute_metrics(eval_pred):\n",
    "\n",
    "    predictions, labels = eval_pred\n",
    "    decoded_preds = tokenizer.batch_decode(predictions, skip_special_tokens = True)\n",
    "\n",
    "    # Replace -100 in the labels as we can't decode them.\n",
    "    labels = np.where(labels != -100, labels, tokenizer.pad_token_id)\n",
    "    decoded_labels = tokenizer.batch_decode(labels, skip_special_tokens = True)\n",
    "    \n",
    "    # Rouge expects a newline after each sentence\n",
    "    decoded_preds = [\"\\n\".join(nltk.sent_tokenize(pred.strip())) for pred in decoded_preds]\n",
    "    decoded_labels = [\"\\n\".join(nltk.sent_tokenize(label.strip())) for label in decoded_labels]\n",
    "    \n",
    "    result = {}\n",
    "    result_rouge = rouge.compute(predictions = decoded_preds, references = decoded_labels)\n",
    "    \n",
    "    # Extract a few results\n",
    "    result.update({key: value.mid.fmeasure * 100 for key, value in result_rouge.items()})\n",
    "    \n",
    "    result_bleu = bleu.compute(predictions = decoded_preds, references = decoded_labels)\n",
    "    \n",
    "    # Extract a few results\n",
    "    result[\"bleu\"] = result_bleu[\"bleu\"] * 100\n",
    "    \n",
    "    # Add mean generated length\n",
    "    prediction_lens = [np.count_nonzero(pred != tokenizer.pad_token_id) for pred in predictions]\n",
    "    result[\"gen_len\"] = np.mean(prediction_lens)\n",
    "    result[\"char_len\"] = np.mean([len(t) for t in decoded_preds])\n",
    "    \n",
    "    return {k: round(v, 4) for k, v in result.items()}"
   ]
  },
  {
   "cell_type": "code",
   "execution_count": 27,
   "metadata": {},
   "outputs": [],
   "source": [
    "training_args = Seq2SeqTrainingArguments(\n",
    "    output_dir = OUTPUT_DIR,\n",
    "    evaluation_strategy = EVALUATION_STRATEGY,\n",
    "    eval_steps = EVAL_STEPS,\n",
    "    logging_steps = LOGGING_STEPS,\n",
    "    learning_rate = LEARNING_RATE,\n",
    "    per_device_train_batch_size = PER_DEVICE_TRAIN_BATCH_SIZE,\n",
    "    per_device_eval_batch_size = PER_DEVICE_EVAL_BATCH_SIZE,\n",
    "    gradient_accumulation_steps = GRADIENT_ACCUMULATION_STEPS,\n",
    "    weight_decay = WEIGHT_DECAY,\n",
    "    save_total_limit = SAVE_TOTAL_LIMIT,\n",
    "    num_train_epochs = NUM_TRAIN_EPOCHS,\n",
    "    fp16 = FP16,\n",
    "    predict_with_generate = PREDICT_WITH_GENERATE,\n",
    "    generation_max_length = GENERATION_MAX_LENGTH,\n",
    "    generation_num_beams = GENERATION_NUM_BEAMS\n",
    ")"
   ]
  },
  {
   "cell_type": "code",
   "execution_count": 28,
   "metadata": {},
   "outputs": [],
   "source": [
    "trainer = Seq2SeqTrainer(\n",
    "    model = model,\n",
    "    args = training_args,\n",
    "    train_dataset = tokenized_dataset[\"train\"],\n",
    "    eval_dataset = tokenized_dataset[\"test\"],\n",
    "    tokenizer = tokenizer,\n",
    "    data_collator = data_collator,\n",
    "    compute_metrics = compute_metrics\n",
    ")"
   ]
  },
  {
   "cell_type": "code",
   "execution_count": 29,
   "metadata": {},
   "outputs": [
    {
     "data": {
      "application/vnd.jupyter.widget-view+json": {
       "model_id": "26527edf9b4045c3a65a51d2a652c2ac",
       "version_major": 2,
       "version_minor": 0
      },
      "text/plain": [
       "  0%|          | 0/1 [00:00<?, ?it/s]"
      ]
     },
     "metadata": {},
     "output_type": "display_data"
    },
    {
     "name": "stdout",
     "output_type": "stream",
     "text": [
      "{'train_runtime': 10.5903, 'train_samples_per_second': 18.885, 'train_steps_per_second': 0.094, 'train_loss': 21.674280166625977, 'epoch': 0.64}\n"
     ]
    },
    {
     "data": {
      "text/plain": [
       "TrainOutput(global_step=1, training_loss=21.674280166625977, metrics={'train_runtime': 10.5903, 'train_samples_per_second': 18.885, 'train_steps_per_second': 0.094, 'train_loss': 21.674280166625977, 'epoch': 0.64})"
      ]
     },
     "execution_count": 29,
     "metadata": {},
     "output_type": "execute_result"
    }
   ],
   "source": [
    "trainer.train()"
   ]
  },
  {
   "cell_type": "code",
   "execution_count": 30,
   "metadata": {},
   "outputs": [
    {
     "data": {
      "application/vnd.jupyter.widget-view+json": {
       "model_id": "07dd8297c7b4408fbd1b4258c6cc5ea2",
       "version_major": 2,
       "version_minor": 0
      },
      "text/plain": [
       "  0%|          | 0/3397 [00:00<?, ?it/s]"
      ]
     },
     "metadata": {},
     "output_type": "display_data"
    }
   ],
   "source": [
    "trainer.evaluate()"
   ]
  }
 ],
 "metadata": {
  "kernelspec": {
   "display_name": "Python 3",
   "language": "python",
   "name": "python3"
  },
  "language_info": {
   "codemirror_mode": {
    "name": "ipython",
    "version": 3
   },
   "file_extension": ".py",
   "mimetype": "text/x-python",
   "name": "python",
   "nbconvert_exporter": "python",
   "pygments_lexer": "ipython3",
   "version": "3.10.12"
  }
 },
 "nbformat": 4,
 "nbformat_minor": 2
}
